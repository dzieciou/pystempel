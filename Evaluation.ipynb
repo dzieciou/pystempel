{
 "cells": [
  {
   "cell_type": "code",
   "execution_count": 1,
   "metadata": {},
   "outputs": [],
   "source": [
    "from collections import defaultdict\n",
    "from tqdm import tqdm\n",
    "from stempel import StempelStemmer\n",
    "import pandas as pd\n",
    "import os\n",
    "import time\n",
    "import morfeusz2\n",
    "\n",
    "import matplotlib.pyplot as plt\n",
    "%matplotlib inline"
   ]
  },
  {
   "cell_type": "markdown",
   "metadata": {},
   "source": [
    "## Test dataset "
   ]
  },
  {
   "cell_type": "code",
   "execution_count": 2,
   "metadata": {},
   "outputs": [],
   "source": [
    "def read_rules(fpath):\n",
    "    rules = {}\n",
    "    with open(fpath, 'r', encoding='utf-8') as lines:\n",
    "        for line in lines:\n",
    "            fields = line.strip().split(' ')\n",
    "            lemma = fields[0]\n",
    "            forms = fields[1:]\n",
    "            rules[lemma] = set(forms)\n",
    "    return rules"
   ]
  },
  {
   "cell_type": "code",
   "execution_count": 3,
   "metadata": {},
   "outputs": [
    {
     "name": "stderr",
     "output_type": "stream",
     "text": [
      "Loading dict: 7381663it [00:39, 186553.81it/s]\n",
      "Stats for rules: 100%|█████████████████████████████████████████████████████████████████████████████████████████████████████████████████████████████████████████████████████████| 323681/323681 [00:10<00:00, 32216.15it/s]\n"
     ]
    },
    {
     "name": "stdout",
     "output_type": "stream",
     "text": [
      "All cases: 323681\n",
      "All forms: 4917282\n",
      "Ambiguous forms: 151539 (3%)\n"
     ]
    }
   ],
   "source": [
    "rules = morfeusz2.load_dict('dicts/polimorf-20190818.tab.gz')\n",
    "all_forms = defaultdict(set)\n",
    "for lemma, forms in tqdm(rules.items(), desc='Stats for rules'):\n",
    "    for form in forms:\n",
    "        all_forms[form].add(lemma)\n",
    "ambiguous_forms = [form for form in all_forms.keys() if len(all_forms[form])>1]\n",
    "print('All cases: {}'.format(len(rules.keys())))\n",
    "print('All forms: {}'.format(len(all_forms)))\n",
    "print('Ambiguous forms: {} ({:.0%})'.format(len(ambiguous_forms), len(ambiguous_forms)/len(all_forms)))"
   ]
  },
  {
   "cell_type": "markdown",
   "metadata": {},
   "source": [
    "## Evaluation"
   ]
  },
  {
   "cell_type": "code",
   "execution_count": 4,
   "metadata": {},
   "outputs": [],
   "source": [
    "def eval(stem, rules):\n",
    "    cases = rules.keys()\n",
    "    total_cases = len(cases)\n",
    "    total_words = 0\n",
    "    no_stem_found = 0\n",
    "    valid_lemma = 0\n",
    "    unique_stem = 0\n",
    "    start = time.time()\n",
    "    for lemma, forms in tqdm(rules.items(), desc='Stemming'):\n",
    "        stemmed_forms = set()\n",
    "        for form in forms:\n",
    "            stemmed = stem(form)\n",
    "            stemmed_forms.add(stemmed)\n",
    "            total_words += 1\n",
    "            if stemmed is None:\n",
    "                no_stem_found += 1\n",
    "        if len(stemmed_forms) == 1:\n",
    "            unique_stem += 1\n",
    "            stemmed = next(iter(stemmed_forms))\n",
    "            if stemmed == lemma:\n",
    "                valid_lemma += 1\n",
    "    stemming_time_sec = time.time() - start\n",
    "\n",
    "    result = {\n",
    "        'unique_stem':unique_stem,\n",
    "        'unique_stem_frac': unique_stem / total_cases,\n",
    "        'valid_lemma':valid_lemma,\n",
    "        'valid_lemma_frac':valid_lemma / unique_stem,\n",
    "        'no_stem_found': no_stem_found,\n",
    "        'no_stem_found_frac': no_stem_found /  total_words,\n",
    "        'stemming_time_sec': stemming_time_sec,\n",
    "        'stemming_time_per_word' : stemming_time_sec / total_words,\n",
    "        'words_per_second' : total_words / stemming_time_sec\n",
    "    }\n",
    "    return result"
   ]
  },
  {
   "cell_type": "code",
   "execution_count": 5,
   "metadata": {},
   "outputs": [
    {
     "name": "stderr",
     "output_type": "stream",
     "text": [
      "Loading: 100%|██████████████████████████████████████████████████████████████████████████████████████████████████████████████████████████████████████████████████████████| 2225192/2225192 [00:01<00:00, 1751289.56bytes/s]\n",
      "Stemming: 100%|█████████████████████████████████████████████████████████████████████████████████████████████████████████████████████████████████████████████████████████████████| 323681/323681 [01:24<00:00, 3812.68it/s]\n",
      "Loading: 100%|████████████████████████████████████████████████████████████████████████████████████████████████████████████████████████████████████████████████████████| 11368252/11368252 [00:07<00:00, 1506361.18bytes/s]\n",
      "Stemming: 100%|█████████████████████████████████████████████████████████████████████████████████████████████████████████████████████████████████████████████████████████████████| 323681/323681 [01:39<00:00, 3237.33it/s]\n"
     ]
    }
   ],
   "source": [
    "stemming_tables = ['data/original/stemmer_20000.tbl.gz',\n",
    "                   'data/polimorf/stemmer_polimorf.tbl.gz'\n",
    "                  ]\n",
    "\n",
    "results = []\n",
    "for stemming_table in stemming_tables:\n",
    "    start = time.time()\n",
    "    stemmer = StempelStemmer.from_file(stemming_table)\n",
    "    loading_time = time.time() - start\n",
    "    result = eval(stemmer.stem, rules)\n",
    "    result['loading_time_sec'] = loading_time\n",
    "    result['stemming_table'] = stemming_table\n",
    "    result['stemming_table_size_mb'] = os.stat(stemming_table).st_size / (1024*1024)\n",
    "    results.append(result)"
   ]
  },
  {
   "cell_type": "code",
   "execution_count": 6,
   "metadata": {},
   "outputs": [
    {
     "data": {
      "text/html": [
       "<div>\n",
       "<style scoped>\n",
       "    .dataframe tbody tr th:only-of-type {\n",
       "        vertical-align: middle;\n",
       "    }\n",
       "\n",
       "    .dataframe tbody tr th {\n",
       "        vertical-align: top;\n",
       "    }\n",
       "\n",
       "    .dataframe thead th {\n",
       "        text-align: right;\n",
       "    }\n",
       "</style>\n",
       "<table border=\"1\" class=\"dataframe\">\n",
       "  <thead>\n",
       "    <tr style=\"text-align: right;\">\n",
       "      <th></th>\n",
       "      <th>unique_stem</th>\n",
       "      <th>unique_stem_frac</th>\n",
       "      <th>valid_lemma</th>\n",
       "      <th>valid_lemma_frac</th>\n",
       "      <th>no_stem_found</th>\n",
       "      <th>no_stem_found_frac</th>\n",
       "      <th>stemming_time_sec</th>\n",
       "      <th>stemming_time_per_word</th>\n",
       "      <th>words_per_second</th>\n",
       "      <th>loading_time_sec</th>\n",
       "      <th>stemming_table_size_mb</th>\n",
       "    </tr>\n",
       "    <tr>\n",
       "      <th>stemming_table</th>\n",
       "      <th></th>\n",
       "      <th></th>\n",
       "      <th></th>\n",
       "      <th></th>\n",
       "      <th></th>\n",
       "      <th></th>\n",
       "      <th></th>\n",
       "      <th></th>\n",
       "      <th></th>\n",
       "      <th></th>\n",
       "      <th></th>\n",
       "    </tr>\n",
       "  </thead>\n",
       "  <tbody>\n",
       "    <tr>\n",
       "      <td>data/original/stemmer_20000.tbl.gz</td>\n",
       "      <td>120649</td>\n",
       "      <td>0.372740</td>\n",
       "      <td>83028</td>\n",
       "      <td>0.688178</td>\n",
       "      <td>312</td>\n",
       "      <td>0.000061</td>\n",
       "      <td>84.897943</td>\n",
       "      <td>0.000017</td>\n",
       "      <td>59785.735734</td>\n",
       "      <td>1.274592</td>\n",
       "      <td>0.367842</td>\n",
       "    </tr>\n",
       "    <tr>\n",
       "      <td>data/polimorf/stemmer_polimorf.tbl.gz</td>\n",
       "      <td>283775</td>\n",
       "      <td>0.876712</td>\n",
       "      <td>247315</td>\n",
       "      <td>0.871518</td>\n",
       "      <td>22</td>\n",
       "      <td>0.000004</td>\n",
       "      <td>99.987820</td>\n",
       "      <td>0.000020</td>\n",
       "      <td>50763.042742</td>\n",
       "      <td>7.552811</td>\n",
       "      <td>2.206561</td>\n",
       "    </tr>\n",
       "  </tbody>\n",
       "</table>\n",
       "</div>"
      ],
      "text/plain": [
       "                                       unique_stem  unique_stem_frac  \\\n",
       "stemming_table                                                         \n",
       "data/original/stemmer_20000.tbl.gz          120649          0.372740   \n",
       "data/polimorf/stemmer_polimorf.tbl.gz       283775          0.876712   \n",
       "\n",
       "                                       valid_lemma  valid_lemma_frac  \\\n",
       "stemming_table                                                         \n",
       "data/original/stemmer_20000.tbl.gz           83028          0.688178   \n",
       "data/polimorf/stemmer_polimorf.tbl.gz       247315          0.871518   \n",
       "\n",
       "                                       no_stem_found  no_stem_found_frac  \\\n",
       "stemming_table                                                             \n",
       "data/original/stemmer_20000.tbl.gz               312            0.000061   \n",
       "data/polimorf/stemmer_polimorf.tbl.gz             22            0.000004   \n",
       "\n",
       "                                       stemming_time_sec  \\\n",
       "stemming_table                                             \n",
       "data/original/stemmer_20000.tbl.gz             84.897943   \n",
       "data/polimorf/stemmer_polimorf.tbl.gz          99.987820   \n",
       "\n",
       "                                       stemming_time_per_word  \\\n",
       "stemming_table                                                  \n",
       "data/original/stemmer_20000.tbl.gz                   0.000017   \n",
       "data/polimorf/stemmer_polimorf.tbl.gz                0.000020   \n",
       "\n",
       "                                       words_per_second  loading_time_sec  \\\n",
       "stemming_table                                                              \n",
       "data/original/stemmer_20000.tbl.gz         59785.735734          1.274592   \n",
       "data/polimorf/stemmer_polimorf.tbl.gz      50763.042742          7.552811   \n",
       "\n",
       "                                       stemming_table_size_mb  \n",
       "stemming_table                                                 \n",
       "data/original/stemmer_20000.tbl.gz                   0.367842  \n",
       "data/polimorf/stemmer_polimorf.tbl.gz                2.206561  "
      ]
     },
     "execution_count": 6,
     "metadata": {},
     "output_type": "execute_result"
    }
   ],
   "source": [
    "results = pd.DataFrame.from_dict(results)\n",
    "results.set_index('stemming_table', inplace=True)\n",
    "results"
   ]
  },
  {
   "cell_type": "code",
   "execution_count": 7,
   "metadata": {},
   "outputs": [
    {
     "data": {
      "image/png": "[encoded data removed]",
      "text/plain": [
       "<Figure size 1080x360 with 1 Axes>"
      ]
     },
     "metadata": {
      "needs_background": "light"
     },
     "output_type": "display_data"
    }
   ],
   "source": [
    "results.plot.barh(y='unique_stem_frac', figsize =(15,5) );"
   ]
  },
  {
   "cell_type": "code",
   "execution_count": 8,
   "metadata": {},
   "outputs": [
    {
     "data": {
      "image/png": "[encoded data removed]",
      "text/plain": [
       "<Figure size 1080x360 with 1 Axes>"
      ]
     },
     "metadata": {
      "needs_background": "light"
     },
     "output_type": "display_data"
    }
   ],
   "source": [
    "results.plot.barh(y='valid_lemma_frac', figsize =(15,5) );"
   ]
  },
  {
   "cell_type": "code",
   "execution_count": 9,
   "metadata": {},
   "outputs": [
    {
     "data": {
      "image/png": "[encoded data removed]",
      "text/plain": [
       "<Figure size 1080x360 with 1 Axes>"
      ]
     },
     "metadata": {
      "needs_background": "light"
     },
     "output_type": "display_data"
    }
   ],
   "source": [
    "results.plot.barh(y='words_per_second', figsize =(15,5) );"
   ]
  },
  {
   "cell_type": "code",
   "execution_count": 10,
   "metadata": {},
   "outputs": [
    {
     "data": {
      "image/png": "[encoded data removed]",
      "text/plain": [
       "<Figure size 1080x360 with 1 Axes>"
      ]
     },
     "metadata": {
      "needs_background": "light"
     },
     "output_type": "display_data"
    }
   ],
   "source": [
    "results.plot.barh(y='loading_time_sec', figsize =(15,5) );"
   ]
  },
  {
   "cell_type": "code",
   "execution_count": 11,
   "metadata": {},
   "outputs": [
    {
     "data": {
      "image/png": "[encoded data removed]",
      "text/plain": [
       "<Figure size 1080x360 with 1 Axes>"
      ]
     },
     "metadata": {
      "needs_background": "light"
     },
     "output_type": "display_data"
    }
   ],
   "source": [
    "results.plot.barh(y='stemming_table_size_mb', figsize =(15,5) );"
   ]
  }
 ],
 "metadata": {
  "kernelspec": {
   "display_name": "Python 3",
   "language": "python",
   "name": "python3"
  },
  "language_info": {
   "codemirror_mode": {
    "name": "ipython",
    "version": 3
   },
   "file_extension": ".py",
   "mimetype": "text/x-python",
   "name": "python",
   "nbconvert_exporter": "python",
   "pygments_lexer": "ipython3",
   "version": "3.7.3"
  }
 },
 "nbformat": 4,
 "nbformat_minor": 2
}
